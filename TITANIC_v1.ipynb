{
  "metadata": {
    "kernelspec": {
      "language": "python",
      "display_name": "Python 3",
      "name": "python3"
    },
    "language_info": {
      "name": "python",
      "version": "3.10.13",
      "mimetype": "text/x-python",
      "codemirror_mode": {
        "name": "ipython",
        "version": 3
      },
      "pygments_lexer": "ipython3",
      "nbconvert_exporter": "python",
      "file_extension": ".py"
    },
    "kaggle": {
      "accelerator": "none",
      "dataSources": [
        {
          "sourceId": 3136,
          "databundleVersionId": 26502,
          "sourceType": "competition"
        }
      ],
      "dockerImageVersionId": 30646,
      "isInternetEnabled": true,
      "language": "python",
      "sourceType": "notebook",
      "isGpuEnabled": false
    },
    "colab": {
      "provenance": [],
      "include_colab_link": true
    }
  },
  "nbformat_minor": 0,
  "nbformat": 4,
  "cells": [
    {
      "cell_type": "markdown",
      "metadata": {
        "id": "view-in-github",
        "colab_type": "text"
      },
      "source": [
        "<a href=\"https://colab.research.google.com/github/sushmitharamk/Machine-Learning-projects/blob/main/TITANIC_v1.ipynb\" target=\"_parent\"><img src=\"https://colab.research.google.com/assets/colab-badge.svg\" alt=\"Open In Colab\"/></a>"
      ]
    },
    {
      "source": [
        "# IMPORTANT: RUN THIS CELL IN ORDER TO IMPORT YOUR KAGGLE DATA SOURCES\n",
        "# TO THE CORRECT LOCATION (/kaggle/input) IN YOUR NOTEBOOK,\n",
        "# THEN FEEL FREE TO DELETE THIS CELL.\n",
        "# NOTE: THIS NOTEBOOK ENVIRONMENT DIFFERS FROM KAGGLE'S PYTHON\n",
        "# ENVIRONMENT SO THERE MAY BE MISSING LIBRARIES USED BY YOUR\n",
        "# NOTEBOOK.\n",
        "\n",
        "import os\n",
        "import sys\n",
        "from tempfile import NamedTemporaryFile\n",
        "from urllib.request import urlopen\n",
        "from urllib.parse import unquote, urlparse\n",
        "from urllib.error import HTTPError\n",
        "from zipfile import ZipFile\n",
        "import tarfile\n",
        "import shutil\n",
        "\n",
        "CHUNK_SIZE = 40960\n",
        "DATA_SOURCE_MAPPING = 'titanic:https%3A%2F%2Fstorage.googleapis.com%2Fkaggle-competitions-data%2Fkaggle-v2%2F3136%2F26502%2Fbundle%2Farchive.zip%3FX-Goog-Algorithm%3DGOOG4-RSA-SHA256%26X-Goog-Credential%3Dgcp-kaggle-com%2540kaggle-161607.iam.gserviceaccount.com%252F20240222%252Fauto%252Fstorage%252Fgoog4_request%26X-Goog-Date%3D20240222T002125Z%26X-Goog-Expires%3D259200%26X-Goog-SignedHeaders%3Dhost%26X-Goog-Signature%3D0294b5cdc3d312eacf6ad7e3740c1a42583f9224b24a9ae779a5a7e748b60d21840972c75f81724767dd31889b97292947d3dcc4e85e2a3ec1e628311ec9464cde7be96cbf6c33d1cbbe09b607f5112f3bad1cfcd64b6093a25195210b421106bae5d253cd31afb72d9d543b3394998f31a4c9eedd00d6c0e2b5ef6ad082efd83550c5d6546595f9c2e801bb9b76c28a68eaae6d68f43d306c991404b90e75e3b0740e8244f8cd9bdd0221f763b438cba508e7124f77d4df6e969609862df0d95872433f748002bf92f292a8a68105c03026ccc3a4509abe0212258e0894ea27c31f8f479aa48a3a6799a0fc003128011424287d171d5914787cabfca02b6690'\n",
        "\n",
        "KAGGLE_INPUT_PATH='/kaggle/input'\n",
        "KAGGLE_WORKING_PATH='/kaggle/working'\n",
        "KAGGLE_SYMLINK='kaggle'\n",
        "\n",
        "!umount /kaggle/input/ 2> /dev/null\n",
        "shutil.rmtree('/kaggle/input', ignore_errors=True)\n",
        "os.makedirs(KAGGLE_INPUT_PATH, 0o777, exist_ok=True)\n",
        "os.makedirs(KAGGLE_WORKING_PATH, 0o777, exist_ok=True)\n",
        "\n",
        "try:\n",
        "  os.symlink(KAGGLE_INPUT_PATH, os.path.join(\"..\", 'input'), target_is_directory=True)\n",
        "except FileExistsError:\n",
        "  pass\n",
        "try:\n",
        "  os.symlink(KAGGLE_WORKING_PATH, os.path.join(\"..\", 'working'), target_is_directory=True)\n",
        "except FileExistsError:\n",
        "  pass\n",
        "\n",
        "for data_source_mapping in DATA_SOURCE_MAPPING.split(','):\n",
        "    directory, download_url_encoded = data_source_mapping.split(':')\n",
        "    download_url = unquote(download_url_encoded)\n",
        "    filename = urlparse(download_url).path\n",
        "    destination_path = os.path.join(KAGGLE_INPUT_PATH, directory)\n",
        "    try:\n",
        "        with urlopen(download_url) as fileres, NamedTemporaryFile() as tfile:\n",
        "            total_length = fileres.headers['content-length']\n",
        "            print(f'Downloading {directory}, {total_length} bytes compressed')\n",
        "            dl = 0\n",
        "            data = fileres.read(CHUNK_SIZE)\n",
        "            while len(data) > 0:\n",
        "                dl += len(data)\n",
        "                tfile.write(data)\n",
        "                done = int(50 * dl / int(total_length))\n",
        "                sys.stdout.write(f\"\\r[{'=' * done}{' ' * (50-done)}] {dl} bytes downloaded\")\n",
        "                sys.stdout.flush()\n",
        "                data = fileres.read(CHUNK_SIZE)\n",
        "            if filename.endswith('.zip'):\n",
        "              with ZipFile(tfile) as zfile:\n",
        "                zfile.extractall(destination_path)\n",
        "            else:\n",
        "              with tarfile.open(tfile.name) as tarfile:\n",
        "                tarfile.extractall(destination_path)\n",
        "            print(f'\\nDownloaded and uncompressed: {directory}')\n",
        "    except HTTPError as e:\n",
        "        print(f'Failed to load (likely expired) {download_url} to path {destination_path}')\n",
        "        continue\n",
        "    except OSError as e:\n",
        "        print(f'Failed to load {download_url} to path {destination_path}')\n",
        "        continue\n",
        "\n",
        "print('Data source import complete.')\n"
      ],
      "metadata": {
        "id": "MPU1Dw14Q-NH"
      },
      "cell_type": "code",
      "outputs": [],
      "execution_count": null
    },
    {
      "cell_type": "code",
      "source": [
        "#import libraries\n",
        "import numpy as np\n",
        "import pandas as pd\n",
        "import seaborn as sns\n",
        "from sklearn.preprocessing import LabelEncoder\n",
        "from sklearn.model_selection import train_test_split\n",
        "from sklearn.ensemble import RandomForestClassifier\n",
        "from sklearn.metrics import accuracy_score, confusion_matrix, classification_report"
      ],
      "metadata": {
        "execution": {
          "iopub.status.busy": "2024-02-21T23:14:41.58003Z",
          "iopub.execute_input": "2024-02-21T23:14:41.58039Z",
          "iopub.status.idle": "2024-02-21T23:14:44.861274Z",
          "shell.execute_reply.started": "2024-02-21T23:14:41.580361Z",
          "shell.execute_reply": "2024-02-21T23:14:44.85989Z"
        },
        "trusted": true,
        "id": "bG9whex9Q-NN"
      },
      "execution_count": null,
      "outputs": []
    },
    {
      "cell_type": "code",
      "source": [
        "#load dataset\n",
        "train = pd.read_csv('/kaggle/input/titanic/train.csv')\n",
        "test = pd.read_csv('/kaggle/input/titanic/test.csv')"
      ],
      "metadata": {
        "execution": {
          "iopub.status.busy": "2024-02-21T23:21:10.286711Z",
          "iopub.execute_input": "2024-02-21T23:21:10.287122Z",
          "iopub.status.idle": "2024-02-21T23:21:10.315074Z",
          "shell.execute_reply.started": "2024-02-21T23:21:10.287091Z",
          "shell.execute_reply": "2024-02-21T23:21:10.314006Z"
        },
        "trusted": true,
        "id": "e2wnIDTcQ-NO"
      },
      "execution_count": null,
      "outputs": []
    },
    {
      "cell_type": "code",
      "source": [
        "#info of train data\n",
        "train.info()"
      ],
      "metadata": {
        "execution": {
          "iopub.status.busy": "2024-02-21T23:21:13.09664Z",
          "iopub.execute_input": "2024-02-21T23:21:13.097003Z",
          "iopub.status.idle": "2024-02-21T23:21:13.12912Z",
          "shell.execute_reply.started": "2024-02-21T23:21:13.096972Z",
          "shell.execute_reply": "2024-02-21T23:21:13.127516Z"
        },
        "trusted": true,
        "id": "9FXjwZ9VQ-NO"
      },
      "execution_count": null,
      "outputs": []
    },
    {
      "cell_type": "code",
      "source": [
        "train.describe()"
      ],
      "metadata": {
        "execution": {
          "iopub.status.busy": "2024-02-21T23:21:16.878052Z",
          "iopub.execute_input": "2024-02-21T23:21:16.881276Z",
          "iopub.status.idle": "2024-02-21T23:21:16.917Z",
          "shell.execute_reply.started": "2024-02-21T23:21:16.881235Z",
          "shell.execute_reply": "2024-02-21T23:21:16.915139Z"
        },
        "trusted": true,
        "id": "vHoyiGB-Q-NP"
      },
      "execution_count": null,
      "outputs": []
    },
    {
      "cell_type": "code",
      "source": [
        "train.head(5)"
      ],
      "metadata": {
        "execution": {
          "iopub.status.busy": "2024-02-21T23:21:20.492959Z",
          "iopub.execute_input": "2024-02-21T23:21:20.49332Z",
          "iopub.status.idle": "2024-02-21T23:21:20.508675Z",
          "shell.execute_reply.started": "2024-02-21T23:21:20.493292Z",
          "shell.execute_reply": "2024-02-21T23:21:20.506731Z"
        },
        "trusted": true,
        "id": "-9iOBph0Q-NP"
      },
      "execution_count": null,
      "outputs": []
    },
    {
      "cell_type": "code",
      "source": [
        "test.head(5)"
      ],
      "metadata": {
        "execution": {
          "iopub.status.busy": "2024-02-21T23:23:12.499493Z",
          "iopub.execute_input": "2024-02-21T23:23:12.499869Z",
          "iopub.status.idle": "2024-02-21T23:23:12.515905Z",
          "shell.execute_reply.started": "2024-02-21T23:23:12.49984Z",
          "shell.execute_reply": "2024-02-21T23:23:12.514838Z"
        },
        "trusted": true,
        "id": "H0z3Z6SKQ-NQ"
      },
      "execution_count": null,
      "outputs": []
    },
    {
      "cell_type": "code",
      "source": [
        "print('The number of duplicated data items in the train data is: ',train.duplicated().sum())"
      ],
      "metadata": {
        "execution": {
          "iopub.status.busy": "2024-02-21T23:21:24.364789Z",
          "iopub.execute_input": "2024-02-21T23:21:24.365122Z",
          "iopub.status.idle": "2024-02-21T23:21:24.377207Z",
          "shell.execute_reply.started": "2024-02-21T23:21:24.365099Z",
          "shell.execute_reply": "2024-02-21T23:21:24.375307Z"
        },
        "trusted": true,
        "id": "F2nb911LQ-NQ"
      },
      "execution_count": null,
      "outputs": []
    },
    {
      "cell_type": "code",
      "source": [
        "#male vs female\n",
        "print(train['Sex'].unique())\n",
        "sns.countplot(train, x=\"Sex\", hue='Survived')"
      ],
      "metadata": {
        "execution": {
          "iopub.status.busy": "2024-02-21T23:40:18.36615Z",
          "iopub.execute_input": "2024-02-21T23:40:18.366528Z",
          "iopub.status.idle": "2024-02-21T23:40:18.543598Z",
          "shell.execute_reply.started": "2024-02-21T23:40:18.366497Z",
          "shell.execute_reply": "2024-02-21T23:40:18.542021Z"
        },
        "trusted": true,
        "id": "UuIpW2smQ-NR"
      },
      "execution_count": null,
      "outputs": []
    },
    {
      "cell_type": "code",
      "source": [
        "#pclass\n",
        "print(train['Pclass'].unique())\n",
        "\n",
        "sns.countplot(train,x='Pclass')"
      ],
      "metadata": {
        "execution": {
          "iopub.status.busy": "2024-02-21T23:21:42.393757Z",
          "iopub.execute_input": "2024-02-21T23:21:42.39414Z",
          "iopub.status.idle": "2024-02-21T23:21:42.531473Z",
          "shell.execute_reply.started": "2024-02-21T23:21:42.394109Z",
          "shell.execute_reply": "2024-02-21T23:21:42.530473Z"
        },
        "trusted": true,
        "id": "GTJBv08MQ-NS"
      },
      "execution_count": null,
      "outputs": []
    },
    {
      "cell_type": "code",
      "source": [
        "d = sns.FacetGrid(train,col='Pclass', hue='Survived')\n",
        "d.map(sns.countplot,'Sex')\n",
        "d.add_legend()"
      ],
      "metadata": {
        "execution": {
          "iopub.status.busy": "2024-02-21T23:21:47.416181Z",
          "iopub.execute_input": "2024-02-21T23:21:47.416538Z",
          "iopub.status.idle": "2024-02-21T23:21:48.389282Z",
          "shell.execute_reply.started": "2024-02-21T23:21:47.416517Z",
          "shell.execute_reply": "2024-02-21T23:21:48.388167Z"
        },
        "trusted": true,
        "id": "hgjZbEEyQ-NS"
      },
      "execution_count": null,
      "outputs": []
    },
    {
      "cell_type": "code",
      "source": [
        "d = sns.FacetGrid(train, col = 'Pclass', hue = 'Survived')\n",
        "d.map(sns.scatterplot,'Fare','Age')\n",
        "d.add_legend()"
      ],
      "metadata": {
        "execution": {
          "iopub.status.busy": "2024-02-21T23:21:52.119163Z",
          "iopub.execute_input": "2024-02-21T23:21:52.119718Z",
          "iopub.status.idle": "2024-02-21T23:21:53.190961Z",
          "shell.execute_reply.started": "2024-02-21T23:21:52.11969Z",
          "shell.execute_reply": "2024-02-21T23:21:53.189576Z"
        },
        "trusted": true,
        "id": "AmaRevfyQ-NT"
      },
      "execution_count": null,
      "outputs": []
    },
    {
      "cell_type": "code",
      "source": [
        "#check for null values:\n",
        "train.isnull().sum()"
      ],
      "metadata": {
        "execution": {
          "iopub.status.busy": "2024-02-21T23:21:57.160137Z",
          "iopub.execute_input": "2024-02-21T23:21:57.160532Z",
          "iopub.status.idle": "2024-02-21T23:21:57.169889Z",
          "shell.execute_reply.started": "2024-02-21T23:21:57.160502Z",
          "shell.execute_reply": "2024-02-21T23:21:57.168329Z"
        },
        "trusted": true,
        "id": "iJGzTi_qQ-NT"
      },
      "execution_count": null,
      "outputs": []
    },
    {
      "cell_type": "code",
      "source": [
        "test.isnull().sum()"
      ],
      "metadata": {
        "execution": {
          "iopub.status.busy": "2024-02-21T23:35:10.012628Z",
          "iopub.execute_input": "2024-02-21T23:35:10.012998Z",
          "iopub.status.idle": "2024-02-21T23:35:10.021614Z",
          "shell.execute_reply.started": "2024-02-21T23:35:10.01297Z",
          "shell.execute_reply": "2024-02-21T23:35:10.02048Z"
        },
        "trusted": true,
        "id": "deLa7uW9Q-NT"
      },
      "execution_count": null,
      "outputs": []
    },
    {
      "cell_type": "code",
      "source": [
        "#replace mean()\n",
        "train['Age'] = train['Age'].fillna(train['Age'].mean())\n",
        "test['Age'] = test['Age'].fillna(test['Age'].mean())\n",
        "test['Fare']=test['Fare'].fillna(test['Fare'].mean())"
      ],
      "metadata": {
        "execution": {
          "iopub.status.busy": "2024-02-21T23:35:07.81957Z",
          "iopub.execute_input": "2024-02-21T23:35:07.819945Z",
          "iopub.status.idle": "2024-02-21T23:35:07.827039Z",
          "shell.execute_reply.started": "2024-02-21T23:35:07.819918Z",
          "shell.execute_reply": "2024-02-21T23:35:07.825493Z"
        },
        "trusted": true,
        "id": "J-ELSXVQQ-NT"
      },
      "execution_count": null,
      "outputs": []
    },
    {
      "cell_type": "code",
      "source": [
        "#replace Nan with mode() for categorical variable\n",
        "train['Cabin'] = train['Cabin'].fillna(train['Cabin'].mode()[0])\n",
        "train['Embarked'] = train['Embarked'].fillna(train['Embarked'].mode()[0])"
      ],
      "metadata": {
        "trusted": true,
        "id": "mtjUeJg2Q-NU"
      },
      "execution_count": null,
      "outputs": []
    },
    {
      "cell_type": "code",
      "source": [
        "test['Cabin'] = test['Cabin'].fillna(test['Cabin'].mode()[0])\n",
        "test['Embarked'] = test['Embarked'].fillna(test['Embarked'].mode()[0])"
      ],
      "metadata": {
        "execution": {
          "iopub.status.busy": "2024-02-21T23:32:07.861156Z",
          "iopub.execute_input": "2024-02-21T23:32:07.861581Z",
          "iopub.status.idle": "2024-02-21T23:32:07.868249Z",
          "shell.execute_reply.started": "2024-02-21T23:32:07.861552Z",
          "shell.execute_reply": "2024-02-21T23:32:07.86725Z"
        },
        "trusted": true,
        "id": "H61QS9tzQ-NU"
      },
      "execution_count": null,
      "outputs": []
    },
    {
      "cell_type": "code",
      "source": [
        "train.isnull().sum()"
      ],
      "metadata": {
        "execution": {
          "iopub.status.busy": "2024-02-21T23:39:59.327062Z",
          "iopub.execute_input": "2024-02-21T23:39:59.328061Z",
          "iopub.status.idle": "2024-02-21T23:39:59.337581Z",
          "shell.execute_reply.started": "2024-02-21T23:39:59.328015Z",
          "shell.execute_reply": "2024-02-21T23:39:59.336086Z"
        },
        "trusted": true,
        "id": "qEMmVTe-Q-NU"
      },
      "execution_count": null,
      "outputs": []
    },
    {
      "cell_type": "code",
      "source": [
        "#handling categorical data\n",
        "label_encoder = LabelEncoder()\n",
        "train['Sex'] =label_encoder.fit_transform(train['Sex'])\n",
        "train['Ticket']= label_encoder.fit_transform(train['Ticket'])\n",
        "train['Cabin'] = label_encoder.fit_transform(train['Cabin'])\n",
        "train['Embarked'] = label_encoder.fit_transform(train['Embarked'])"
      ],
      "metadata": {
        "execution": {
          "iopub.status.busy": "2024-02-21T23:35:16.651749Z",
          "iopub.execute_input": "2024-02-21T23:35:16.652097Z",
          "iopub.status.idle": "2024-02-21T23:35:16.661326Z",
          "shell.execute_reply.started": "2024-02-21T23:35:16.652076Z",
          "shell.execute_reply": "2024-02-21T23:35:16.65998Z"
        },
        "trusted": true,
        "id": "Iha5iTTWQ-NV"
      },
      "execution_count": null,
      "outputs": []
    },
    {
      "cell_type": "code",
      "source": [
        "test['Sex'] =label_encoder.fit_transform(test['Sex'])\n",
        "test['Ticket']= label_encoder.fit_transform(test['Ticket'])\n",
        "test['Cabin'] = label_encoder.fit_transform(test['Cabin'])\n",
        "test['Embarked'] = label_encoder.fit_transform(test['Embarked'])"
      ],
      "metadata": {
        "execution": {
          "iopub.status.busy": "2024-02-21T23:35:18.846858Z",
          "iopub.execute_input": "2024-02-21T23:35:18.847252Z",
          "iopub.status.idle": "2024-02-21T23:35:18.857461Z",
          "shell.execute_reply.started": "2024-02-21T23:35:18.847211Z",
          "shell.execute_reply": "2024-02-21T23:35:18.856209Z"
        },
        "trusted": true,
        "id": "GGQITKehQ-NV"
      },
      "execution_count": null,
      "outputs": []
    },
    {
      "cell_type": "code",
      "source": [
        "train.isnull().sum()"
      ],
      "metadata": {
        "execution": {
          "iopub.status.busy": "2024-02-21T23:35:21.694314Z",
          "iopub.execute_input": "2024-02-21T23:35:21.695074Z",
          "iopub.status.idle": "2024-02-21T23:35:21.704112Z",
          "shell.execute_reply.started": "2024-02-21T23:35:21.695041Z",
          "shell.execute_reply": "2024-02-21T23:35:21.702771Z"
        },
        "trusted": true,
        "id": "IhV4F8ngQ-NV"
      },
      "execution_count": null,
      "outputs": []
    },
    {
      "cell_type": "code",
      "source": [
        "features = ['Pclass','Sex','Age','SibSp','Parch','Ticket','Fare','Cabin','Embarked']\n",
        "X_train = train[features]\n",
        "y_train = train['Survived']\n",
        "X_test = test[features]"
      ],
      "metadata": {
        "execution": {
          "iopub.status.busy": "2024-02-21T23:35:25.317272Z",
          "iopub.execute_input": "2024-02-21T23:35:25.317622Z",
          "iopub.status.idle": "2024-02-21T23:35:25.325716Z",
          "shell.execute_reply.started": "2024-02-21T23:35:25.317594Z",
          "shell.execute_reply": "2024-02-21T23:35:25.324478Z"
        },
        "trusted": true,
        "id": "ES0N84wiQ-NV"
      },
      "execution_count": null,
      "outputs": []
    },
    {
      "cell_type": "code",
      "source": [
        "X_train['Sex']"
      ],
      "metadata": {
        "execution": {
          "iopub.status.busy": "2024-02-21T23:32:23.100731Z",
          "iopub.execute_input": "2024-02-21T23:32:23.101073Z",
          "iopub.status.idle": "2024-02-21T23:32:23.109111Z",
          "shell.execute_reply.started": "2024-02-21T23:32:23.101046Z",
          "shell.execute_reply": "2024-02-21T23:32:23.107784Z"
        },
        "trusted": true,
        "id": "_lgri2v1Q-NW"
      },
      "execution_count": null,
      "outputs": []
    },
    {
      "cell_type": "code",
      "source": [
        "model = RandomForestClassifier(n_estimators = 100, max_depth=5, random_state=1)\n",
        "model.fit(X_train,y_train)\n",
        "predictions = model.predict(X_test)"
      ],
      "metadata": {
        "execution": {
          "iopub.status.busy": "2024-02-21T23:35:29.689649Z",
          "iopub.execute_input": "2024-02-21T23:35:29.690046Z",
          "iopub.status.idle": "2024-02-21T23:35:29.871953Z",
          "shell.execute_reply.started": "2024-02-21T23:35:29.690016Z",
          "shell.execute_reply": "2024-02-21T23:35:29.87033Z"
        },
        "trusted": true,
        "id": "Z_5GdfACQ-NW"
      },
      "execution_count": null,
      "outputs": []
    },
    {
      "cell_type": "code",
      "source": [
        "passenger_id = test['PassengerId']"
      ],
      "metadata": {
        "execution": {
          "iopub.status.busy": "2024-02-21T23:46:54.142668Z",
          "iopub.execute_input": "2024-02-21T23:46:54.143022Z",
          "iopub.status.idle": "2024-02-21T23:46:54.149031Z",
          "shell.execute_reply.started": "2024-02-21T23:46:54.142996Z",
          "shell.execute_reply": "2024-02-21T23:46:54.148018Z"
        },
        "trusted": true,
        "id": "mqbHvwY8Q-NW"
      },
      "execution_count": null,
      "outputs": []
    },
    {
      "cell_type": "code",
      "source": [
        "#saving predictions to csv\n",
        "prediction = pd.DataFrame(predictions, columns=['Survived'])\n",
        "prediction =pd.merge(passenger_id,prediction,left_index=True, right_index =True)"
      ],
      "metadata": {
        "execution": {
          "iopub.status.busy": "2024-02-22T00:11:53.267272Z",
          "iopub.execute_input": "2024-02-22T00:11:53.267679Z",
          "iopub.status.idle": "2024-02-22T00:11:53.275158Z",
          "shell.execute_reply.started": "2024-02-22T00:11:53.267647Z",
          "shell.execute_reply": "2024-02-22T00:11:53.273595Z"
        },
        "trusted": true,
        "id": "3URg-pHGQ-NW"
      },
      "execution_count": null,
      "outputs": []
    },
    {
      "cell_type": "code",
      "source": [
        "prediction.to_csv('output.csv', index= False)"
      ],
      "metadata": {
        "execution": {
          "iopub.status.busy": "2024-02-22T00:12:07.365209Z",
          "iopub.execute_input": "2024-02-22T00:12:07.365631Z",
          "iopub.status.idle": "2024-02-22T00:12:07.374055Z",
          "shell.execute_reply.started": "2024-02-22T00:12:07.365599Z",
          "shell.execute_reply": "2024-02-22T00:12:07.372474Z"
        },
        "trusted": true,
        "id": "sYzZcZY9Q-NW"
      },
      "execution_count": null,
      "outputs": []
    }
  ]
}